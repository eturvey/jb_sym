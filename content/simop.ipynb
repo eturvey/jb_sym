{
 "cells": [
  {
   "cell_type": "markdown",
   "metadata": {},
   "source": [
    "# Simulation Tools"
   ]
  },
  {
   "cell_type": "markdown",
   "metadata": {},
   "source": [
    "There are several tools available for simulating realizations of probabilistic objects &mdash; outcomes from a probability space, events, values of random variables or random vectors, stochastic processes &mdash; and analyzing the results.  In general, the methods below can be chained, one after the other, e.g. `P.sim(1000).apply(sum).tabulate()`.\n",
    "\n",
    "After we simulate our RVs and have a vector of values to work with, some of the following operations are very useful. "
   ]
  },
  {
   "cell_type": "markdown",
   "metadata": {},
   "source": [
    "1. **Apply:** `.apply()` applies a function to each outcome or value\n",
    "1. **Tabulate:** `.tabulate()` creates a table summary of simulated outcomes of a probability model or simulated values of random variables\n",
    "1. **Count:** `.count()` and its relatives count the values which satsify some criteria.\n",
    "1. **Get:** `.get()` returns the results of a particular realization of the simulation."
   ]
  },
  {
   "cell_type": "markdown",
   "metadata": {},
   "source": [
    "Be sure to import Symbulate using the following commands.\n",
    "<a id='simulation'></a>"
   ]
  },
  {
   "cell_type": "code",
   "execution_count": 1,
   "metadata": {},
   "outputs": [],
   "source": [
    "from symbulate import *\n",
    "%matplotlib inline"
   ]
  },
  {
   "cell_type": "markdown",
   "metadata": {},
   "source": [
    "### Apply\n",
    "\n",
    "See the section on transformations for more use cases of `apply()`. Use `.apply()` to apply a function on an outcome-by-outcome basis to each realization of a simulation.\n",
    "\n",
    "*Example.* Roll two fair six-sided dice and compute their sum."
   ]
  },
  {
   "cell_type": "code",
   "execution_count": 3,
   "metadata": {},
   "outputs": [
    {
     "data": {
      "text/html": [
       "\n",
       "    <table>\n",
       "      <thead>\n",
       "        <th width=\"10%\">Index</th>\n",
       "        <th width=\"90%\">Result</th>\n",
       "      </thead>\n",
       "      <tbody>\n",
       "        \n",
       "        <tr>\n",
       "          <td>0</td><td>8</td>\n",
       "        </tr>\n",
       "        \n",
       "        <tr>\n",
       "          <td>1</td><td>10</td>\n",
       "        </tr>\n",
       "        \n",
       "        <tr>\n",
       "          <td>2</td><td>7</td>\n",
       "        </tr>\n",
       "        \n",
       "        <tr>\n",
       "          <td>3</td><td>6</td>\n",
       "        </tr>\n",
       "        \n",
       "        <tr>\n",
       "          <td>4</td><td>6</td>\n",
       "        </tr>\n",
       "        \n",
       "        <tr>\n",
       "          <td>5</td><td>8</td>\n",
       "        </tr>\n",
       "        \n",
       "        <tr>\n",
       "          <td>6</td><td>12</td>\n",
       "        </tr>\n",
       "        \n",
       "        <tr>\n",
       "          <td>7</td><td>6</td>\n",
       "        </tr>\n",
       "        \n",
       "        <tr>\n",
       "          <td>8</td><td>5</td>\n",
       "        </tr>\n",
       "        <tr><td>...</td><td>...</td></tr>\n",
       "        <tr>\n",
       "          <td>999</td><td>6</td>\n",
       "        </tr>\n",
       "        \n",
       "      </tbody>\n",
       "    </table>\n",
       "        "
      ],
      "text/plain": [
       "<symbulate.results.Results at 0x1a1d63c518>"
      ]
     },
     "execution_count": 3,
     "metadata": {},
     "output_type": "execute_result"
    }
   ],
   "source": [
    "die = list(range(1, 6+1)) # this is just a list of the number 1 through 6\n",
    "roll = BoxModel(die, size = 2)\n",
    "roll.sim(1000).apply(sum)"
   ]
  },
  {
   "cell_type": "markdown",
   "metadata": {},
   "source": [
    "User defined functions can also be applied.  Standard Python commands can be used to define functions.\n",
    "\n",
    "*Example.* Ten cards labeled 1, 2, $\\ldots$, 10 are shuffled and dealt one at a time.  Find the the probability that the number on the card matches its position in the deal for at least one of the cards.  (For example, a match occurs if card 3 is the third card dealt.)\n",
    "\n",
    "First we define a probability space whose outcomes correspond to ordered deals of the cards.  Each realization of the simulation is a permutation of the numbers 0, 1, $\\ldots$ 9 (using Python indexing).  Simulate 10000 realizations and store as `sims`."
   ]
  },
  {
   "cell_type": "code",
   "execution_count": 5,
   "metadata": {},
   "outputs": [
    {
     "data": {
      "text/html": [
       "\n",
       "    <table>\n",
       "      <thead>\n",
       "        <th width=\"10%\">Index</th>\n",
       "        <th width=\"90%\">Result</th>\n",
       "      </thead>\n",
       "      <tbody>\n",
       "        \n",
       "        <tr>\n",
       "          <td>0</td><td>(7, 5, 0, 2, 1, ..., 8)</td>\n",
       "        </tr>\n",
       "        \n",
       "        <tr>\n",
       "          <td>1</td><td>(7, 9, 0, 8, 2, ..., 6)</td>\n",
       "        </tr>\n",
       "        \n",
       "        <tr>\n",
       "          <td>2</td><td>(1, 2, 3, 9, 4, ..., 8)</td>\n",
       "        </tr>\n",
       "        \n",
       "        <tr>\n",
       "          <td>3</td><td>(9, 7, 0, 8, 1, ..., 2)</td>\n",
       "        </tr>\n",
       "        \n",
       "        <tr>\n",
       "          <td>4</td><td>(2, 3, 6, 5, 8, ..., 9)</td>\n",
       "        </tr>\n",
       "        \n",
       "        <tr>\n",
       "          <td>5</td><td>(2, 4, 1, 0, 9, ..., 6)</td>\n",
       "        </tr>\n",
       "        \n",
       "        <tr>\n",
       "          <td>6</td><td>(6, 3, 2, 8, 9, ..., 5)</td>\n",
       "        </tr>\n",
       "        \n",
       "        <tr>\n",
       "          <td>7</td><td>(9, 3, 8, 4, 6, ..., 5)</td>\n",
       "        </tr>\n",
       "        \n",
       "        <tr>\n",
       "          <td>8</td><td>(4, 2, 5, 1, 6, ..., 0)</td>\n",
       "        </tr>\n",
       "        <tr><td>...</td><td>...</td></tr>\n",
       "        <tr>\n",
       "          <td>9999</td><td>(4, 5, 9, 2, 1, ..., 6)</td>\n",
       "        </tr>\n",
       "        \n",
       "      </tbody>\n",
       "    </table>\n",
       "        "
      ],
      "text/plain": [
       "<symbulate.results.Results at 0x1a1d63c320>"
      ]
     },
     "execution_count": 5,
     "metadata": {},
     "output_type": "execute_result"
    }
   ],
   "source": [
    "n = 10\n",
    "labels = list(range(n)) # remember, Python starts the index at 0, so the cards are labebeled 0, ..., 9\n",
    "P = BoxModel(labels, size = n, replace = False)\n",
    "sims = P.sim(10000)\n",
    "sims"
   ]
  },
  {
   "cell_type": "markdown",
   "metadata": {},
   "source": [
    "Next we define a function `is_match` which takes as an input a permutation of 0, $\\ldots$, 9 and checks if there is at least once match.  (Defining custom functions like this is the main way that Python code is used with Symbulate.)"
   ]
  },
  {
   "cell_type": "code",
   "execution_count": 6,
   "metadata": {},
   "outputs": [
    {
     "data": {
      "text/plain": [
       "'At least one match'"
      ]
     },
     "execution_count": 6,
     "metadata": {},
     "output_type": "execute_result"
    }
   ],
   "source": [
    "def is_match(x):\n",
    "    for i in range(n):\n",
    "        if x[i] == labels[i]:\n",
    "            return 'At least one match'\n",
    "    return 'No match'\n",
    "    \n",
    "is_match((1, 2, 0, 3, 5, 6, 7, 8, 9, 4)) # for the outcome, card 3 matches position 3"
   ]
  },
  {
   "cell_type": "markdown",
   "metadata": {},
   "source": [
    "Now we apply the `is_match` function to the simulated realizations, stored in `sims`."
   ]
  },
  {
   "cell_type": "code",
   "execution_count": 7,
   "metadata": {},
   "outputs": [
    {
     "data": {
      "text/html": [
       "\n",
       "    <table>\n",
       "      <thead>\n",
       "        <th width=\"10%\">Index</th>\n",
       "        <th width=\"90%\">Result</th>\n",
       "      </thead>\n",
       "      <tbody>\n",
       "        \n",
       "        <tr>\n",
       "          <td>0</td><td>No match</td>\n",
       "        </tr>\n",
       "        \n",
       "        <tr>\n",
       "          <td>1</td><td>At least one match</td>\n",
       "        </tr>\n",
       "        \n",
       "        <tr>\n",
       "          <td>2</td><td>At least one match</td>\n",
       "        </tr>\n",
       "        \n",
       "        <tr>\n",
       "          <td>3</td><td>No match</td>\n",
       "        </tr>\n",
       "        \n",
       "        <tr>\n",
       "          <td>4</td><td>At least one match</td>\n",
       "        </tr>\n",
       "        \n",
       "        <tr>\n",
       "          <td>5</td><td>No match</td>\n",
       "        </tr>\n",
       "        \n",
       "        <tr>\n",
       "          <td>6</td><td>At least one match</td>\n",
       "        </tr>\n",
       "        \n",
       "        <tr>\n",
       "          <td>7</td><td>No match</td>\n",
       "        </tr>\n",
       "        \n",
       "        <tr>\n",
       "          <td>8</td><td>No match</td>\n",
       "        </tr>\n",
       "        <tr><td>...</td><td>...</td></tr>\n",
       "        <tr>\n",
       "          <td>9999</td><td>At least one match</td>\n",
       "        </tr>\n",
       "        \n",
       "      </tbody>\n",
       "    </table>\n",
       "        "
      ],
      "text/plain": [
       "<symbulate.results.Results at 0x1a1d97b6a0>"
      ]
     },
     "execution_count": 7,
     "metadata": {},
     "output_type": "execute_result"
    }
   ],
   "source": [
    "sims.apply(is_match)"
   ]
  },
  {
   "cell_type": "markdown",
   "metadata": {},
   "source": [
    "### Tabulate\n",
    "\n",
    "The results of a simulation can be quickly tabulated using `.tabulate()`.  Tabulate counts the number of times each particular outcome occurs among the simulated realizations.  Use `.tabulate(normalize=True)` to find the proportion (relative frequency) of times each outcome occurs.\n",
    "\n",
    "**Example.** Roll two fair four-sided.  Each realization is an ordered pair of rolls.  There are 16 possible ordered pairs - (1, 1), (1, 2), ..., (4, 3), (4, 4) - all equally likely."
   ]
  },
  {
   "cell_type": "code",
   "execution_count": 9,
   "metadata": {},
   "outputs": [
    {
     "data": {
      "text/html": [
       "\n",
       "<table>\n",
       "  <thead>\n",
       "    <th width=\"80%\">Outcome</th>\n",
       "    <th width=\"20%\">Value</th>\n",
       "  </thead>\n",
       "  <tbody>\n",
       "    <tr><td>(1, 1)</td><td>1061</td></tr><tr><td>(1, 2)</td><td>990</td></tr><tr><td>(1, 3)</td><td>980</td></tr><tr><td>(1, 4)</td><td>1044</td></tr><tr><td>(2, 1)</td><td>989</td></tr><tr><td>(2, 2)</td><td>984</td></tr><tr><td>(2, 3)</td><td>971</td></tr><tr><td>(2, 4)</td><td>1027</td></tr><tr><td>(3, 1)</td><td>954</td></tr><tr><td>(3, 2)</td><td>1025</td></tr><tr><td>(3, 3)</td><td>972</td></tr><tr><td>(3, 4)</td><td>990</td></tr><tr><td>(4, 1)</td><td>985</td></tr><tr><td>(4, 2)</td><td>989</td></tr><tr><td>(4, 3)</td><td>1023</td></tr><tr><td>(4, 4)</td><td>1016</td></tr><tr><td><b>Total</b></td><td><b>16000</b></td></tr>\n",
       "  </tbody>\n",
       "</table>\n"
      ],
      "text/plain": [
       "{(1, 1): 1061,\n",
       " (1, 2): 990,\n",
       " (1, 3): 980,\n",
       " (1, 4): 1044,\n",
       " (2, 1): 989,\n",
       " (2, 2): 984,\n",
       " (2, 3): 971,\n",
       " (2, 4): 1027,\n",
       " (3, 1): 954,\n",
       " (3, 2): 1025,\n",
       " (3, 3): 972,\n",
       " (3, 4): 990,\n",
       " (4, 1): 985,\n",
       " (4, 2): 989,\n",
       " (4, 3): 1023,\n",
       " (4, 4): 1016}"
      ]
     },
     "execution_count": 9,
     "metadata": {},
     "output_type": "execute_result"
    }
   ],
   "source": [
    "die = list(range(1, 4+1, 1)) # this is just a list of the numbers 1 through 4\n",
    "roll = BoxModel(die, size=2)\n",
    "rolls = roll.sim(16000)\n",
    "rolls.tabulate()"
   ]
  },
  {
   "cell_type": "markdown",
   "metadata": {},
   "source": [
    "Now sum the dice, and approximate the probability distribution of the sum using tabulate with the normalize option."
   ]
  },
  {
   "cell_type": "code",
   "execution_count": 10,
   "metadata": {},
   "outputs": [
    {
     "data": {
      "text/html": [
       "\n",
       "<table>\n",
       "  <thead>\n",
       "    <th width=\"80%\">Outcome</th>\n",
       "    <th width=\"20%\">Value</th>\n",
       "  </thead>\n",
       "  <tbody>\n",
       "    <tr><td>2</td><td>0.0663125</td></tr><tr><td>3</td><td>0.1236875</td></tr><tr><td>4</td><td>0.182375</td></tr><tr><td>5</td><td>0.2515625</td></tr><tr><td>6</td><td>0.18675</td></tr><tr><td>7</td><td>0.1258125</td></tr><tr><td>8</td><td>0.0635</td></tr><tr><td><b>Total</b></td><td><b>1.0</b></td></tr>\n",
       "  </tbody>\n",
       "</table>\n"
      ],
      "text/plain": [
       "{2: 0.0663125,\n",
       " 3: 0.1236875,\n",
       " 4: 0.182375,\n",
       " 5: 0.2515625,\n",
       " 6: 0.18675,\n",
       " 7: 0.1258125,\n",
       " 8: 0.0635}"
      ]
     },
     "execution_count": 10,
     "metadata": {},
     "output_type": "execute_result"
    }
   ],
   "source": [
    "rolls.apply(sum).tabulate(normalize=True)"
   ]
  },
  {
   "cell_type": "markdown",
   "metadata": {},
   "source": [
    "Individual entries of the table can be referenced using `.tabulate()[label]` where label represents the value of interest."
   ]
  },
  {
   "cell_type": "code",
   "execution_count": 11,
   "metadata": {},
   "outputs": [
    {
     "data": {
      "text/plain": [
       "1027"
      ]
     },
     "execution_count": 11,
     "metadata": {},
     "output_type": "execute_result"
    }
   ],
   "source": [
    "rolls.tabulate()[(2,4)]"
   ]
  },
  {
   "cell_type": "code",
   "execution_count": 12,
   "metadata": {},
   "outputs": [
    {
     "data": {
      "text/plain": [
       "0.37606249999999997"
      ]
     },
     "execution_count": 12,
     "metadata": {},
     "output_type": "execute_result"
    }
   ],
   "source": [
    "roll_sum = rolls.apply(sum).tabulate(normalize=True)\n",
    "roll_sum[6] + roll_sum[7] + roll_sum[8]"
   ]
  },
  {
   "cell_type": "markdown",
   "metadata": {},
   "source": [
    "By default, tabulate only tabulates those outcomes which are among the simulated values, rather than all possible outcomes.  An argument can be passed to `.tabulate()` to tabulate all outcomes in a given list."
   ]
  },
  {
   "cell_type": "code",
   "execution_count": 13,
   "metadata": {},
   "outputs": [
    {
     "data": {
      "text/html": [
       "\n",
       "<table>\n",
       "  <thead>\n",
       "    <th width=\"80%\">Outcome</th>\n",
       "    <th width=\"20%\">Value</th>\n",
       "  </thead>\n",
       "  <tbody>\n",
       "    <tr><td>1</td><td>1</td></tr><tr><td>2</td><td>0</td></tr><tr><td>3</td><td>1</td></tr><tr><td>4</td><td>0</td></tr><tr><td><b>Total</b></td><td><b>2</b></td></tr>\n",
       "  </tbody>\n",
       "</table>\n"
      ],
      "text/plain": [
       "{1: 1, 2: 0, 3: 1, 4: 0}"
      ]
     },
     "execution_count": 13,
     "metadata": {},
     "output_type": "execute_result"
    }
   ],
   "source": [
    "die = list(range(1, 4+1, 1)) # this is just a list of the number 1 through 4\n",
    "rolls = BoxModel(die).sim(2)\n",
    "rolls.tabulate(die)"
   ]
  },
  {
   "cell_type": "code",
   "execution_count": 14,
   "metadata": {},
   "outputs": [
    {
     "data": {
      "text/html": [
       "\n",
       "<table>\n",
       "  <thead>\n",
       "    <th width=\"80%\">Outcome</th>\n",
       "    <th width=\"20%\">Value</th>\n",
       "  </thead>\n",
       "  <tbody>\n",
       "    <tr><td>1</td><td>1</td></tr><tr><td>3</td><td>1</td></tr><tr><td><b>Total</b></td><td><b>2</b></td></tr>\n",
       "  </tbody>\n",
       "</table>\n"
      ],
      "text/plain": [
       "{1: 1, 3: 1}"
      ]
     },
     "execution_count": 14,
     "metadata": {},
     "output_type": "execute_result"
    }
   ],
   "source": [
    "# Compare with\n",
    "rolls.tabulate()"
   ]
  },
  {
   "cell_type": "markdown",
   "metadata": {},
   "source": [
    "By default, the outcomes in the table produced by `.tabulate()` are in alphanumeric order.  A list can be passed to `.tabulate()` to achieve a specified order."
   ]
  },
  {
   "cell_type": "code",
   "execution_count": 15,
   "metadata": {},
   "outputs": [
    {
     "data": {
      "text/html": [
       "\n",
       "<table>\n",
       "  <thead>\n",
       "    <th width=\"80%\">Outcome</th>\n",
       "    <th width=\"20%\">Value</th>\n",
       "  </thead>\n",
       "  <tbody>\n",
       "    <tr><td>3</td><td>1</td></tr><tr><td>a</td><td>6</td></tr><tr><td>2</td><td>1</td></tr><tr><td>b</td><td>0</td></tr><tr><td>1</td><td>2</td></tr><tr><td><b>Total</b></td><td><b>10</b></td></tr>\n",
       "  </tbody>\n",
       "</table>\n"
      ],
      "text/plain": [
       "{1: 2, 2: 1, 3: 1, 'a': 6, 'b': 0}"
      ]
     },
     "execution_count": 15,
     "metadata": {},
     "output_type": "execute_result"
    }
   ],
   "source": [
    "BoxModel(['a', 'b', 1, 2, 3]).sim(10).tabulate([3, 'a', 2, 'b', 1])"
   ]
  },
  {
   "cell_type": "markdown",
   "metadata": {},
   "source": [
    "Revisitng our example from earlier, in which we applied our own function `is_match` to a draw of 10 numbers, we can now easily view the simulated probabilities of there either being at least one match or not."
   ]
  },
  {
   "cell_type": "code",
   "execution_count": 9,
   "metadata": {},
   "outputs": [
    {
     "data": {
      "text/html": [
       "\n",
       "<table>\n",
       "  <thead>\n",
       "    <th width=\"80%\">Outcome</th>\n",
       "    <th width=\"20%\">Value</th>\n",
       "  </thead>\n",
       "  <tbody>\n",
       "    <tr><td>At least one match</td><td>0.638</td></tr><tr><td>No match</td><td>0.362</td></tr><tr><td><b>Total</b></td><td><b>1.0</b></td></tr>\n",
       "  </tbody>\n",
       "</table>\n"
      ],
      "text/plain": [
       "{'No match': 0.362, 'At least one match': 0.638}"
      ]
     },
     "execution_count": 9,
     "metadata": {},
     "output_type": "execute_result"
    }
   ],
   "source": [
    "sims.apply(is_match).tabulate(normalize=True)"
   ]
  },
  {
   "cell_type": "markdown",
   "metadata": {},
   "source": [
    "### Count\n",
    "\n",
    "You can count the number of simulated realizations equal to a particular value using `count_eq()`."
   ]
  },
  {
   "cell_type": "code",
   "execution_count": 16,
   "metadata": {},
   "outputs": [
    {
     "data": {
      "text/plain": [
       "5017"
      ]
     },
     "execution_count": 16,
     "metadata": {},
     "output_type": "execute_result"
    }
   ],
   "source": [
    "BoxModel(['H','T']).sim(10000).count_eq('H')"
   ]
  },
  {
   "cell_type": "code",
   "execution_count": 17,
   "metadata": {},
   "outputs": [
    {
     "data": {
      "text/plain": [
       "1012"
      ]
     },
     "execution_count": 17,
     "metadata": {},
     "output_type": "execute_result"
    }
   ],
   "source": [
    "die = list(range(1, 4+1, 1)) # this is just a list of the number 1 through 4\n",
    "roll = BoxModel(die, size = 2)\n",
    "rolls = roll.sim(16000)\n",
    "rolls.count_eq((2,4))"
   ]
  },
  {
   "cell_type": "markdown",
   "metadata": {},
   "source": [
    "In addition to `.count_eq()`, the following count functions can be used when the values are numerical.\n",
    "\n",
    "* `.count_neq()` counts the values *not equal to* the argument\n",
    "* `.count_lt()` counts the values *less than* the argument\n",
    "* `.count_leq()` counts the values *less than or equal to* the argument\n",
    "* `.count_gt()` counts the values *greater than* the argument\n",
    "* `.count_geq()` counts the values *greater than or equal to* the argument"
   ]
  },
  {
   "cell_type": "code",
   "execution_count": 18,
   "metadata": {},
   "outputs": [
    {
     "data": {
      "text/plain": [
       "0.3731875"
      ]
     },
     "execution_count": 18,
     "metadata": {},
     "output_type": "execute_result"
    }
   ],
   "source": [
    "rolls.apply(sum).count_geq(6) / 16000"
   ]
  },
  {
   "cell_type": "markdown",
   "metadata": {},
   "source": [
    "You can also count the number of outcomes which satisfy some criteria specified by a user defined function. Define a function that returns `True` for the outcomes you want to count, and pass the function into `.count()`. For example, the following code is equivalent to using `.count_geq(6)`."
   ]
  },
  {
   "cell_type": "code",
   "execution_count": 19,
   "metadata": {},
   "outputs": [
    {
     "data": {
      "text/plain": [
       "0.3731875"
      ]
     },
     "execution_count": 19,
     "metadata": {},
     "output_type": "execute_result"
    }
   ],
   "source": [
    "def greater_than_or_equal_to_6(x):\n",
    "    return x >= 6\n",
    "\n",
    "rolls.apply(sum).count(greater_than_or_equal_to_6) / 16000"
   ]
  },
  {
   "cell_type": "markdown",
   "metadata": {},
   "source": [
    "Custom functions can also be used to count based on multiple criteria.  For example, the following counts the pairs of rolls in which the first roll is equal to 2 and the second roll is at most 3."
   ]
  },
  {
   "cell_type": "code",
   "execution_count": 20,
   "metadata": {},
   "outputs": [
    {
     "data": {
      "text/plain": [
       "3112"
      ]
     },
     "execution_count": 20,
     "metadata": {},
     "output_type": "execute_result"
    }
   ],
   "source": [
    "def custom_count(x): # x represents a pair of values (x[0], x[1])\n",
    "    if (x[0] == 2) & (x[1] <= 3):\n",
    "        return True\n",
    "\n",
    "rolls.count(custom_count)"
   ]
  },
  {
   "cell_type": "markdown",
   "metadata": {},
   "source": [
    "Counting can also be accomplished by creating logical (True = 1, False = 0) values according to whether an outcome satisfies some criteria and then summing."
   ]
  },
  {
   "cell_type": "code",
   "execution_count": 21,
   "metadata": {},
   "outputs": [
    {
     "data": {
      "text/plain": [
       "0.3731875"
      ]
     },
     "execution_count": 21,
     "metadata": {},
     "output_type": "execute_result"
    }
   ],
   "source": [
    "rollsums = rolls.apply(sum)\n",
    "sum(rollsums >= 6) / 16000"
   ]
  },
  {
   "cell_type": "markdown",
   "metadata": {},
   "source": [
    "Since a mean (average) is the sum of values divided by the number of values, changing sum to mean in the above method returns the relative frequency directly (without having to divide by the number of values)."
   ]
  },
  {
   "cell_type": "code",
   "execution_count": 22,
   "metadata": {},
   "outputs": [
    {
     "data": {
      "text/plain": [
       "0.3731875"
      ]
     },
     "execution_count": 22,
     "metadata": {},
     "output_type": "execute_result"
    }
   ],
   "source": [
    "mean(rollsums >= 6)"
   ]
  },
  {
   "cell_type": "markdown",
   "metadata": {},
   "source": [
    "### Get\n",
    "\n",
    "The outcome of a particular repetition of the simulation can be accessed with `.get()`.  Recall that Python starts an index at 0, so `.get(0)` returns the first simulated value, `.get(1)` the second, etc."
   ]
  },
  {
   "cell_type": "code",
   "execution_count": 27,
   "metadata": {},
   "outputs": [
    {
     "data": {
      "text/html": [
       "\n",
       "    <table>\n",
       "      <thead>\n",
       "        <th width=\"10%\">Index</th>\n",
       "        <th width=\"90%\">Result</th>\n",
       "      </thead>\n",
       "      <tbody>\n",
       "        \n",
       "        <tr>\n",
       "          <td>0</td><td>(4, 4)</td>\n",
       "        </tr>\n",
       "        \n",
       "        <tr>\n",
       "          <td>1</td><td>(4, 1)</td>\n",
       "        </tr>\n",
       "        \n",
       "        <tr>\n",
       "          <td>2</td><td>(1, 4)</td>\n",
       "        </tr>\n",
       "        \n",
       "        <tr>\n",
       "          <td>3</td><td>(1, 1)</td>\n",
       "        </tr>\n",
       "        \n",
       "      </tbody>\n",
       "    </table>\n",
       "        "
      ],
      "text/plain": [
       "<symbulate.results.Results at 0x25cdc652860>"
      ]
     },
     "execution_count": 27,
     "metadata": {},
     "output_type": "execute_result"
    }
   ],
   "source": [
    "die = list(range(1, 4+1)) # this is just a list of the number 1 through 4\n",
    "roll = BoxModel(die, size = 2)\n",
    "sims = roll.sim(4)\n",
    "sims"
   ]
  },
  {
   "cell_type": "code",
   "execution_count": 28,
   "metadata": {},
   "outputs": [
    {
     "data": {
      "text/plain": [
       "(4, 4)"
      ]
     },
     "execution_count": 28,
     "metadata": {},
     "output_type": "execute_result"
    }
   ],
   "source": [
    "sims.get(0)"
   ]
  },
  {
   "cell_type": "code",
   "execution_count": 29,
   "metadata": {},
   "outputs": [
    {
     "data": {
      "text/plain": [
       "(1, 4)"
      ]
     },
     "execution_count": 29,
     "metadata": {},
     "output_type": "execute_result"
    }
   ],
   "source": [
    "sims.get(2)"
   ]
  },
  {
   "cell_type": "markdown",
   "metadata": {},
   "source": [
    "<a id='recap'></a>"
   ]
  }
 ],
 "metadata": {
  "anaconda-cloud": {},
  "kernelspec": {
   "display_name": "Python 3",
   "language": "python",
   "name": "python3"
  },
  "language_info": {
   "codemirror_mode": {
    "name": "ipython",
    "version": 3
   },
   "file_extension": ".py",
   "mimetype": "text/x-python",
   "name": "python",
   "nbconvert_exporter": "python",
   "pygments_lexer": "ipython3",
   "version": "3.7.3"
  }
 },
 "nbformat": 4,
 "nbformat_minor": 1
}
