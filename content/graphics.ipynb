{
 "cells": [
  {
   "cell_type": "markdown",
   "metadata": {},
   "source": [
    "# Symbulate Graphics"
   ]
  },
  {
   "cell_type": "markdown",
   "metadata": {},
   "source": [
    "The `.plot()` method produces a graphic of simulated values of random variables or processes.\n",
    "\n",
    "The following sections will go over some other graphics functionality available in Symbulate. We will cover:"
   ]
  },
  {
   "cell_type": "markdown",
   "metadata": {},
   "source": [
    "1. **Rug plot of individual values**\n",
    "1. **Impulse plot**\n",
    "1. **Histogram**\n",
    "1. **Density**\n",
    "1. **Scatterplot**\n",
    "1. **Tile plot**\n",
    "1. **Two-dimensional histogram**\n",
    "1. **Two-dimensional density**\n",
    "1. **Marginal Plot**\n",
    "1. **Jitter**\n",
    "1. **Sample path plot**\n",
    "1. **Spaghetti Plot**"
   ]
  }
 ],
 "metadata": {
  "anaconda-cloud": {},
  "kernelspec": {
   "display_name": "Python 3",
   "language": "python",
   "name": "python3"
  },
  "language_info": {
   "codemirror_mode": {
    "name": "ipython",
    "version": 3
   },
   "file_extension": ".py",
   "mimetype": "text/x-python",
   "name": "python",
   "nbconvert_exporter": "python",
   "pygments_lexer": "ipython3",
   "version": "3.7.3"
  }
 },
 "nbformat": 4,
 "nbformat_minor": 1
}
