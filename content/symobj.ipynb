{
 "cells": [
  {
   "cell_type": "markdown",
   "metadata": {},
   "source": [
    "# Symbulate Objects & The Probability World"
   ]
  },
  {
   "cell_type": "markdown",
   "metadata": {},
   "source": [
    "Symbulate can be thought of as occupying two worlds: the probability world and the simulation world. In the probability world we define random variables and use these to run simulations and calculate probabilities. In the simulation world RVs are thought of as vectors that we can perform operations on.\n",
    "\n",
    "The following notebooks will introduce you to the probability world and some of the building blocks for using Symbulate. \n",
    "\n",
    "Symbulate is used to create and simulate random variables and processes for both named and unamed distributions. In order to do this we will first look at how to build your own random variable and some of the operations that can be performed on such an object. \n"
   ]
  },
  {
   "cell_type": "code",
   "execution_count": null,
   "metadata": {},
   "outputs": [],
   "source": []
  }
 ],
 "metadata": {
  "anaconda-cloud": {},
  "kernelspec": {
   "display_name": "Python 3",
   "language": "python",
   "name": "python3"
  },
  "language_info": {
   "codemirror_mode": {
    "name": "ipython",
    "version": 3
   },
   "file_extension": ".py",
   "mimetype": "text/x-python",
   "name": "python",
   "nbconvert_exporter": "python",
   "pygments_lexer": "ipython3",
   "version": "3.7.3"
  }
 },
 "nbformat": 4,
 "nbformat_minor": 1
}
