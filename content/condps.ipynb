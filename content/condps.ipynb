{
 "cells": [
  {
   "cell_type": "markdown",
   "metadata": {},
   "source": [
    "# Conditioning in a probability space"
   ]
  },
  {
   "cell_type": "markdown",
   "metadata": {},
   "source": [
    "Be sure to import Symbulate using the following commands."
   ]
  },
  {
   "cell_type": "code",
   "execution_count": 1,
   "metadata": {},
   "outputs": [],
   "source": [
    "from symbulate import *\n",
    "%matplotlib inline"
   ]
  },
  {
   "cell_type": "markdown",
   "metadata": {},
   "source": [
    "Symbulate allows for defining both `ProbabilitySpace`s and `RV`s.  Conditioning is only available for `RV`.  However, conditioning on events in a probability space can be accomplished by defining appropriate `RV`s and conditioning accordingly.  Note that while technically a random variable maps outcomes to real numbers, a Symbulate `RV` is not required to take numerical values.\n",
    "\n",
    "*Example.* Three cards are dealt without replacement from a standard deck of 52 cards.  What is the conditional probability that the third card is a heart given that the first two cards are hearts? (Note that the true conditional probability  is $11/50 = 0.22$.)"
   ]
  },
  {
   "cell_type": "code",
   "execution_count": 10,
   "metadata": {},
   "outputs": [],
   "source": [
    "cards = ['clubs', 'diamonds', 'hearts', 'spades'] * 13  # 13 cards of each suit\n",
    "FirstCard, SecondCard, ThirdCard = RV(BoxModel(cards, size=3, replace=False))"
   ]
  },
  {
   "cell_type": "markdown",
   "metadata": {},
   "source": [
    "Note that `FirstCard` is an `RV`, but it takes non-numerical values (`'clubs'`, etc). The following conditions on the FirstCard and SecondCard RVs taking the value `'hearts'`."
   ]
  },
  {
   "cell_type": "code",
   "execution_count": 11,
   "metadata": {},
   "outputs": [
    {
     "data": {
      "text/html": [
       "\n",
       "<table>\n",
       "  <thead>\n",
       "    <th width=\"80%\">Outcome</th>\n",
       "    <th width=\"20%\">Value</th>\n",
       "  </thead>\n",
       "  <tbody>\n",
       "    <tr><td>(hearts, hearts, clubs)</td><td>2564</td></tr><tr><td>(hearts, hearts, diamonds)</td><td>2522</td></tr><tr><td>(hearts, hearts, hearts)</td><td>2212</td></tr><tr><td>(hearts, hearts, spades)</td><td>2702</td></tr><tr><td><b>Total</b></td><td><b>10000</b></td></tr>\n",
       "  </tbody>\n",
       "</table>\n"
      ],
      "text/plain": [
       "{(hearts, hearts, clubs): 2564,\n",
       " (hearts, hearts, diamonds): 2522,\n",
       " (hearts, hearts, hearts): 2212,\n",
       " (hearts, hearts, spades): 2702}"
      ]
     },
     "execution_count": 11,
     "metadata": {},
     "output_type": "execute_result"
    }
   ],
   "source": [
    "(FirstCard & SecondCard & ThirdCard | ((FirstCard == 'hearts') & (SecondCard == 'hearts')) ).sim(10000).tabulate()"
   ]
  }
 ],
 "metadata": {
  "anaconda-cloud": {},
  "kernelspec": {
   "display_name": "Python 3",
   "language": "python",
   "name": "python3"
  },
  "language_info": {
   "codemirror_mode": {
    "name": "ipython",
    "version": 3
   },
   "file_extension": ".py",
   "mimetype": "text/x-python",
   "name": "python",
   "nbconvert_exporter": "python",
   "pygments_lexer": "ipython3",
   "version": "3.7.3"
  }
 },
 "nbformat": 4,
 "nbformat_minor": 1
}
