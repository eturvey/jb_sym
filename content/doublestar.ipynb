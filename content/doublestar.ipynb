{
 "cells": [
  {
   "cell_type": "markdown",
   "metadata": {},
   "source": [
    "# The ** Operator "
   ]
  },
  {
   "cell_type": "markdown",
   "metadata": {},
   "source": [
    "Be sure to import Symbulate using the following commands.\n",
    "<a id='joint'></a>"
   ]
  },
  {
   "cell_type": "code",
   "execution_count": 1,
   "metadata": {},
   "outputs": [],
   "source": [
    "from symbulate import *\n",
    "%matplotlib inline"
   ]
  },
  {
   "cell_type": "markdown",
   "metadata": {},
   "source": [
    "The `**` operator is a very useful tool in symbulate that allows us to define iid variables quickly and easily and, similar to the `*` operator we can use either slicing or unpacking to access the results.\n",
    "\n",
    "When we use the `**` operator and simulate a result, we are really creating a vector with each entry representing an independent draw from the defined probability space the specified number of times. In the example below we see the resulting draw is a vector with 6 entries representing independent draws from the Normal(0,1) distribution.\n"
   ]
  },
  {
   "cell_type": "code",
   "execution_count": 2,
   "metadata": {},
   "outputs": [
    {
     "data": {
      "text/plain": [
       "(1.3066083968578444, -0.42014021588093087, -0.24653514722791392, 0.1454539577308929, 0.28626119550621437, -0.19472292491423548)"
      ]
     },
     "execution_count": 2,
     "metadata": {},
     "output_type": "execute_result"
    }
   ],
   "source": [
    "normvec = RV(Normal(0,1) ** 6)\n",
    "normvec.draw()"
   ]
  },
  {
   "cell_type": "markdown",
   "metadata": {},
   "source": [
    "From here we can use slicing to store each entry of the vector. Similarly we could have defined 3 variables using unpacking."
   ]
  },
  {
   "cell_type": "code",
   "execution_count": 4,
   "metadata": {},
   "outputs": [
    {
     "data": {
      "text/plain": [
       "(-0.5264437064896508, 1.1620339167182665, -0.180506391516277)"
      ]
     },
     "execution_count": 4,
     "metadata": {},
     "output_type": "execute_result"
    }
   ],
   "source": [
    "first = normvec[0]\n",
    "second = normvec[1]\n",
    "third = normvec[2]\n",
    "fourth = normvec[3]\n",
    "fifth = normvec[4]\n",
    "sixth = normvec[5]\n",
    "\n",
    "first.draw(), second.draw(), third.draw() #and so on"
   ]
  }
 ],
 "metadata": {
  "anaconda-cloud": {},
  "kernelspec": {
   "display_name": "Python 3",
   "language": "python",
   "name": "python3"
  },
  "language_info": {
   "codemirror_mode": {
    "name": "ipython",
    "version": 3
   },
   "file_extension": ".py",
   "mimetype": "text/x-python",
   "name": "python",
   "nbconvert_exporter": "python",
   "pygments_lexer": "ipython3",
   "version": "3.7.3"
  }
 },
 "nbformat": 4,
 "nbformat_minor": 1
}
