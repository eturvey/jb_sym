{
 "cells": [
  {
   "cell_type": "markdown",
   "metadata": {},
   "source": [
    "# Mean "
   ]
  },
  {
   "cell_type": "markdown",
   "metadata": {},
   "source": [
    "Be sure to import Symbulate using the following commands."
   ]
  },
  {
   "cell_type": "code",
   "execution_count": 1,
   "metadata": {},
   "outputs": [],
   "source": [
    "from symbulate import *\n",
    "%matplotlib inline"
   ]
  },
  {
   "cell_type": "markdown",
   "metadata": {},
   "source": [
    "We are able to find the mean of some some observations by calling the `.mean()` function. Remember that simulation tools can be linked together. Therefore the following will simulate the rolling of a six-sided die 1000 times, and return the average value in these 1000 rolls."
   ]
  },
  {
   "cell_type": "code",
   "execution_count": 10,
   "metadata": {},
   "outputs": [
    {
     "data": {
      "text/plain": [
       "3.46"
      ]
     },
     "execution_count": 10,
     "metadata": {},
     "output_type": "execute_result"
    }
   ],
   "source": [
    "die = list(range(1, 6+1, 1)) # this is just a list of the number 1 through 6\n",
    "roll = RV(BoxModel(die, size = 1))\n",
    "roll.sim(1000).mean()"
   ]
  },
  {
   "cell_type": "markdown",
   "metadata": {},
   "source": [
    "We can also calculate means on a filtered subset of simulations."
   ]
  },
  {
   "cell_type": "code",
   "execution_count": 12,
   "metadata": {},
   "outputs": [
    {
     "data": {
      "text/plain": [
       "5.040076335877862"
      ]
     },
     "execution_count": 12,
     "metadata": {},
     "output_type": "execute_result"
    }
   ],
   "source": [
    "roll.sim(1000).filter_geq(4).mean()"
   ]
  },
  {
   "cell_type": "markdown",
   "metadata": {},
   "source": [
    "Note that we must let Symbulate know that our rolls are a random variable by wrapping the roll in `RV()`. "
   ]
  },
  {
   "cell_type": "markdown",
   "metadata": {},
   "source": [
    "For a named `Distribution` (some of which we will discuss in future chapters), calling `Distribution.mean()` returns its expected value (mean).\n",
    "\n",
    "*Example.* The expected value of a Gamma distribution with shape parameter $\\alpha$ and rate parameter $\\lambda$ is $\\alpha/\\lambda$."
   ]
  },
  {
   "cell_type": "code",
   "execution_count": 6,
   "metadata": {},
   "outputs": [
    {
     "data": {
      "text/plain": [
       "5.0"
      ]
     },
     "execution_count": 6,
     "metadata": {},
     "output_type": "execute_result"
    }
   ],
   "source": [
    "Gamma(shape=10, rate=2).mean()"
   ]
  },
  {
   "cell_type": "markdown",
   "metadata": {},
   "source": [
    "*Example*. The expected value of a Binomial($n$, $p$) distribution is $np$."
   ]
  },
  {
   "cell_type": "code",
   "execution_count": 7,
   "metadata": {},
   "outputs": [
    {
     "data": {
      "text/plain": [
       "2.0"
      ]
     },
     "execution_count": 7,
     "metadata": {},
     "output_type": "execute_result"
    }
   ],
   "source": [
    "Binomial(n=5, p=0.4).mean()"
   ]
  },
  {
   "cell_type": "markdown",
   "metadata": {},
   "source": [
    "There are some technicalities that can be encountered regarding whether an expected value is defined or finite.  If $E(X)$ is defined, it can be written as $E(X) = E(\\max(X,0)) - E(-\\min(X, 0))$.The expected value of a random variable is finite only if both $E(\\max(X,0))$ and $E(-\\min(X, 0))$ are finite.\n",
    "\n",
    "It is possible to have infinite expected value, if one of $E(\\max(X,0))$ and $E(-\\min(X, 0))$ is infinite and the other is finite.\n",
    "\n",
    "*Example.*  The expected value of an $F$ distribution with $d_2$ degrees of freedom in the denominator is infinite if $d_2\\le 2$."
   ]
  },
  {
   "cell_type": "code",
   "execution_count": 8,
   "metadata": {},
   "outputs": [
    {
     "data": {
      "text/plain": [
       "inf"
      ]
     },
     "execution_count": 8,
     "metadata": {},
     "output_type": "execute_result"
    }
   ],
   "source": [
    "F(dfN=10, dfD=2).mean()"
   ]
  },
  {
   "cell_type": "markdown",
   "metadata": {},
   "source": [
    "The expected value of a random variable $X$ is undefined if both $E(\\max(X, 0))$ and $E(-\\min(X, 0))$ are infinite. \n",
    "\n",
    "*Example.* The expected value of a Cauchy distribution is undefined."
   ]
  },
  {
   "cell_type": "code",
   "execution_count": 9,
   "metadata": {},
   "outputs": [
    {
     "data": {
      "text/plain": [
       "nan"
      ]
     },
     "execution_count": 9,
     "metadata": {},
     "output_type": "execute_result"
    }
   ],
   "source": [
    "Cauchy(loc=0, scale=1).mean()"
   ]
  }
 ],
 "metadata": {
  "kernelspec": {
   "display_name": "Python 3",
   "language": "python",
   "name": "python3"
  },
  "language_info": {
   "codemirror_mode": {
    "name": "ipython",
    "version": 3
   },
   "file_extension": ".py",
   "mimetype": "text/x-python",
   "name": "python",
   "nbconvert_exporter": "python",
   "pygments_lexer": "ipython3",
   "version": "3.7.3"
  }
 },
 "nbformat": 4,
 "nbformat_minor": 2
}
