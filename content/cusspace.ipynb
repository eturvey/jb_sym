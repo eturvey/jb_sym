{
 "cells": [
  {
   "cell_type": "markdown",
   "metadata": {},
   "source": [
    "# Custom Spaces"
   ]
  },
  {
   "cell_type": "markdown",
   "metadata": {
    "collapsed": true
   },
   "source": [
    "Be sure to import Symbulate during a session  using the following commands.\n",
    "<a id='prob'></a>"
   ]
  },
  {
   "cell_type": "code",
   "execution_count": 1,
   "metadata": {},
   "outputs": [],
   "source": [
    "from symbulate import *\n",
    "%matplotlib inline"
   ]
  },
  {
   "cell_type": "markdown",
   "metadata": {},
   "source": [
    "### ProbabilitySpace\n",
    "\n",
    "While Symbulate has many common probability models built in, custom probability spaces can be defined using the `ProbabilitySpace` command.  The first step in creating a probability space is to define a function that explains how to draw one outcome. \n",
    "\n",
    "*Example.* Ten percent of all e-mail is spam. Thirty percent of spam e-mails contain the word \"money\", while 2% of non-spam e-mails contain the word \"money\". Suppose an e-mail contains the word \"money\". What is the probability that it is spam?\n",
    "\n",
    "We can think of the sample space of outcomes of pairs of the possible email types (spam or not) and wordings (money or not), with the probability measure following the above specifications.  First we draw from a `BoxModel` to determine the email type.  Then, depending on the result of the first draw, we draw from one of two `BoxModel`s to determine the wording.  The function `spam_sim` below encodes these specifications; note the use of `.draw()`."
   ]
  },
  {
   "cell_type": "code",
   "execution_count": 12,
   "metadata": {},
   "outputs": [],
   "source": [
    "def spam_sim():\n",
    "    email_type = BoxModel([\"spam\", \"not spam\"], probs=[0.1, 0.9]).draw()\n",
    "    if email_type == \"spam\":\n",
    "        has_money = BoxModel([\"money\", \"no money\"], probs=[0.3, 0.7]).draw()\n",
    "    else:\n",
    "        has_money = BoxModel([\"money\", \"no money\"], probs=[0.02, 0.98]).draw()\n",
    "    return email_type, has_money"
   ]
  },
  {
   "cell_type": "markdown",
   "metadata": {},
   "source": [
    "A `ProbabilitySpace` can be created once the specifications of the simulation have been defined via a function, like `spam_sim` above."
   ]
  },
  {
   "cell_type": "code",
   "execution_count": 13,
   "metadata": {},
   "outputs": [
    {
     "data": {
      "text/plain": [
       "('not spam', 'no money')"
      ]
     },
     "execution_count": 13,
     "metadata": {},
     "output_type": "execute_result"
    }
   ],
   "source": [
    "P = ProbabilitySpace(spam_sim)\n",
    "P.draw()"
   ]
  }
 ],
 "metadata": {
  "anaconda-cloud": {},
  "kernelspec": {
   "display_name": "Python 3",
   "language": "python",
   "name": "python3"
  },
  "language_info": {
   "codemirror_mode": {
    "name": "ipython",
    "version": 3
   },
   "file_extension": ".py",
   "mimetype": "text/x-python",
   "name": "python",
   "nbconvert_exporter": "python",
   "pygments_lexer": "ipython3",
   "version": "3.7.3"
  }
 },
 "nbformat": 4,
 "nbformat_minor": 1
}
