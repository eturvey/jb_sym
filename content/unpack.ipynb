{
 "cells": [
  {
   "cell_type": "markdown",
   "metadata": {},
   "source": [
    "# Unpacking"
   ]
  },
  {
   "cell_type": "markdown",
   "metadata": {},
   "source": [
    "Be sure to import Symbulate using the following commands.\n",
    "<a id='joint'></a>"
   ]
  },
  {
   "cell_type": "code",
   "execution_count": 1,
   "metadata": {},
   "outputs": [],
   "source": [
    "from symbulate import *\n",
    "%matplotlib inline"
   ]
  },
  {
   "cell_type": "markdown",
   "metadata": {},
   "source": [
    "<a id='joint'></a>"
   ]
  },
  {
   "cell_type": "markdown",
   "metadata": {},
   "source": [
    "In the probability world we may want to define multiple variables from the same probability space. \n",
    "\n",
    "*Example.* Let $X$, $Y$, and $Z$ be independent, with $X$ having a Binomial(5, 0.5) distribution, $Y$ a Normal(0,1) distribution, and $Z$ a Uniform(0,1) distribution.  \n",
    "\n",
    "The following code illistrates how we can store 3 independent RVs at the same time using the `*` operator. With this operation we assign each comma-seperated variable to a probability space to pull from. The `&` operator then simply returns a vector with values for each varaible in their corresponding position."
   ]
  },
  {
   "cell_type": "code",
   "execution_count": 14,
   "metadata": {},
   "outputs": [
    {
     "data": {
      "text/html": [
       "\n",
       "    <table>\n",
       "      <thead>\n",
       "        <th width=\"10%\">Index</th>\n",
       "        <th width=\"90%\">Result</th>\n",
       "      </thead>\n",
       "      <tbody>\n",
       "        \n",
       "        <tr>\n",
       "          <td>0</td><td>(3, -0.8820085190997768, 0.8725188862301262)</td>\n",
       "        </tr>\n",
       "        \n",
       "        <tr>\n",
       "          <td>1</td><td>(2, -0.6942545954953674, 0.5353290337579006)</td>\n",
       "        </tr>\n",
       "        \n",
       "        <tr>\n",
       "          <td>2</td><td>(2, 1.2847470309620233, 0.5476642083627794)</td>\n",
       "        </tr>\n",
       "        \n",
       "        <tr>\n",
       "          <td>3</td><td>(3, -0.6128467866054531, 0.8832702148291354)</td>\n",
       "        </tr>\n",
       "        \n",
       "      </tbody>\n",
       "    </table>\n",
       "        "
      ],
      "text/plain": [
       "<symbulate.results.RVResults at 0x12fe3cb5198>"
      ]
     },
     "execution_count": 14,
     "metadata": {},
     "output_type": "execute_result"
    },
    {
     "data": {
      "image/png": "[encoded data removed]",
      "text/plain": [
       "<Figure size 432x288 with 1 Axes>"
      ]
     },
     "metadata": {
      "needs_background": "light"
     },
     "output_type": "display_data"
    }
   ],
   "source": [
    "X, Y, Z = RV(Binomial(5, 0.5) * Normal(0,1) * Uniform(0,1))\n",
    "Y.sim(10000).plot()\n",
    "(X & Y & Z).sim(4)"
   ]
  },
  {
   "cell_type": "markdown",
   "metadata": {},
   "source": [
    "The simulation world will allow us to approach this issue by viewing things in a vectorized manner. This will be discussed in the upcoming chapter."
   ]
  },
  {
   "cell_type": "markdown",
   "metadata": {},
   "source": [
    "<a id='marginal'></a>"
   ]
  }
 ],
 "metadata": {
  "anaconda-cloud": {},
  "kernelspec": {
   "display_name": "Python 3",
   "language": "python",
   "name": "python3"
  },
  "language_info": {
   "codemirror_mode": {
    "name": "ipython",
    "version": 3
   },
   "file_extension": ".py",
   "mimetype": "text/x-python",
   "name": "python",
   "nbconvert_exporter": "python",
   "pygments_lexer": "ipython3",
   "version": "3.7.3"
  }
 },
 "nbformat": 4,
 "nbformat_minor": 1
}
