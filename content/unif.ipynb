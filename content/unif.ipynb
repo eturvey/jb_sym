{
 "cells": [
  {
   "cell_type": "markdown",
   "metadata": {},
   "source": [
    "# Continuous Uniform Distribution"
   ]
  },
  {
   "cell_type": "markdown",
   "metadata": {},
   "source": [
    "Be sure to import Symbulate using the following commands."
   ]
  },
  {
   "cell_type": "code",
   "execution_count": 1,
   "metadata": {},
   "outputs": [],
   "source": [
    "from symbulate import *\n",
    "%matplotlib inline"
   ]
  },
  {
   "cell_type": "markdown",
   "metadata": {},
   "source": [
    "Some additional plotting functionality is enabled by importing [matplotlib](https://matplotlib.org/)."
   ]
  },
  {
   "cell_type": "code",
   "execution_count": 2,
   "metadata": {},
   "outputs": [],
   "source": [
    "import matplotlib.pyplot as plt"
   ]
  },
  {
   "cell_type": "markdown",
   "metadata": {},
   "source": [
    "**(Continuous) Uniform** distributions are used to model situations is which every value in an interval is \"equally likely\" in the sense of having the same density.  The density of a Uniform distribution with parameters $a$ and $b$ is constant on the interval $(a, b)$ and is specified by the probability density function\n",
    "\n",
    "$$\n",
    "f(x) = \\frac{1}{b-a}, \\quad a < x < b.\n",
    "$$\n",
    "\n",
    "If $X$ is a random variable with a Uniform($a, b$) distribution then\n",
    "$$\n",
    "\\begin{align*}\n",
    "E(X) & = \\frac{a + b}{2} \\\\\n",
    "Var(X) & = \\frac{(b - a)^2}{12}\n",
    "\\end{align*}\n",
    "$$"
   ]
  },
  {
   "cell_type": "markdown",
   "metadata": {},
   "source": [
    "*Example.* Actual and simulated pdf for `Uniform(a=1, b=3)`."
   ]
  },
  {
   "cell_type": "code",
   "execution_count": 3,
   "metadata": {
    "scrolled": true
   },
   "outputs": [
    {
     "data": {
      "image/png": "[encoded data removed]",
      "text/plain": [
       "<Figure size 432x288 with 1 Axes>"
      ]
     },
     "metadata": {
      "needs_background": "light"
     },
     "output_type": "display_data"
    }
   ],
   "source": [
    "sims = RV(Uniform(a=1, b=3)).sim(10000)\n",
    "sims.plot()\n",
    "Uniform(a=1, b=3).plot()"
   ]
  },
  {
   "cell_type": "code",
   "execution_count": 4,
   "metadata": {},
   "outputs": [
    {
     "name": "stdout",
     "output_type": "stream",
     "text": [
      "The simulated mean is: 1.99\n",
      "The true mean is: 2.00\n"
     ]
    }
   ],
   "source": [
    "print('The simulated mean is: {:.2f}'.format(sims.mean()))\n",
    "print('The true mean is: {:.2f}'.format(Uniform(a=1, b=3).mean()))"
   ]
  },
  {
   "cell_type": "code",
   "execution_count": 5,
   "metadata": {
    "scrolled": true
   },
   "outputs": [
    {
     "name": "stdout",
     "output_type": "stream",
     "text": [
      "The simulated variance is: 0.33\n",
      "The true variance is: 0.33\n"
     ]
    }
   ],
   "source": [
    "print('The simulated variance is: {:.2f}'.format(sims.var()))\n",
    "print('The true variance is: {:.2f}'.format(Uniform(a=1, b=3).var()))"
   ]
  },
  {
   "cell_type": "markdown",
   "metadata": {},
   "source": [
    "Let's explore the uniform pmf for some other values of b.\n",
    "\n",
    "*Example.* `Uniform(a=1, b)` pdf."
   ]
  },
  {
   "cell_type": "code",
   "execution_count": 17,
   "metadata": {
    "scrolled": false
   },
   "outputs": [
    {
     "data": {
      "text/plain": [
       "Text(0.5, 1.0, 'Uniform(a, b) densities with a=1')"
      ]
     },
     "execution_count": 17,
     "metadata": {},
     "output_type": "execute_result"
    },
    {
     "data": {
      "image/png": "[encoded data removed]",
      "text/plain": [
       "<Figure size 432x288 with 1 Axes>"
      ]
     },
     "metadata": {
      "needs_background": "light"
     },
     "output_type": "display_data"
    }
   ],
   "source": [
    "bs = [7,5,3]\n",
    "for b in bs:\n",
    "    Uniform(a=1, b=b).plot()\n",
    "\n",
    "plt.legend([\"b=\" + str(i) for i in bs])\n",
    "plt.title(\"Uniform(a, b) densities with a=1\")"
   ]
  }
 ],
 "metadata": {
  "kernelspec": {
   "display_name": "Python 3",
   "language": "python",
   "name": "python3"
  },
  "language_info": {
   "codemirror_mode": {
    "name": "ipython",
    "version": 3
   },
   "file_extension": ".py",
   "mimetype": "text/x-python",
   "name": "python",
   "nbconvert_exporter": "python",
   "pygments_lexer": "ipython3",
   "version": "3.7.3"
  }
 },
 "nbformat": 4,
 "nbformat_minor": 2
}
