{
 "cells": [
  {
   "cell_type": "markdown",
   "metadata": {},
   "source": [
    "# Independent and Custom Probability Spaces"
   ]
  },
  {
   "cell_type": "markdown",
   "metadata": {},
   "source": [
    "Two very useful concepts will be covered in the following chapter.\n",
    "\n",
    "Independent probability spaces allows us to perform a lot of operations that would not otherwise be possible. We will go over some tools we can use in Symbulate to create such probability spaces and to let Symbulate know that this is what we have done. \n",
    "\n",
    "Sometimes the built in probability spaces just don't cut it for what we are trying to accomplish (or another layer of complexity is needed) so we will also go over how to make custom probability spaces in Symbulate."
   ]
  }
 ],
 "metadata": {
  "kernelspec": {
   "display_name": "Python 3",
   "language": "python",
   "name": "python3"
  },
  "language_info": {
   "codemirror_mode": {
    "name": "ipython",
    "version": 3
   },
   "file_extension": ".py",
   "mimetype": "text/x-python",
   "name": "python",
   "nbconvert_exporter": "python",
   "pygments_lexer": "ipython3",
   "version": "3.7.3"
  }
 },
 "nbformat": 4,
 "nbformat_minor": 2
}
