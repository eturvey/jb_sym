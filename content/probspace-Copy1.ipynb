{
 "cells": [
  {
   "cell_type": "markdown",
   "metadata": {},
   "source": [
    "# Probability Spaces"
   ]
  },
  {
   "cell_type": "markdown",
   "metadata": {},
   "source": [
    "A **probability space** consists of a **sample space** of possible outcomes and a **probability measure** which specifies how to assign probabilities to related events.  Many common probability spaces are available in Symbulate.  Users can also define their own probability spaces. "
   ]
  },
  {
   "cell_type": "markdown",
   "metadata": {
    "collapsed": true
   },
   "source": [
    "Be sure to import Symbulate during a session  using the following commands.\n",
    "<a id='prob'></a>"
   ]
  },
  {
   "cell_type": "code",
   "execution_count": 1,
   "metadata": {},
   "outputs": [],
   "source": [
    "from symbulate import *\n",
    "%matplotlib inline"
   ]
  },
  {
   "cell_type": "markdown",
   "metadata": {},
   "source": [
    "The following sections will cover some useful tools with respect to probability spaces. Box Model will allow you to define an elementary proabability space: labeled tickets are placed in a box and shuffled, and some number of tickets are drawn - either with or without replacement between draws. ProbabilitySpace allows you to create custom spaces more complex than modeled by a box model. Lastly, to draw from multiple indepdent random variables we can use the operators * and **. \n",
    "\n",
    "In addition to what the following sections will cover, there are many commonly used probability spaces that we will go over more in later sections. Below are a few examples."
   ]
  },
  {
   "cell_type": "markdown",
   "metadata": {},
   "source": [
    "### Commonly used probability spaces\n",
    "\n",
    "Symbulate has many commonly used probability spaces built in.  Here are just a few examples. See the Common Models chapters later in this book for more information.  "
   ]
  },
  {
   "cell_type": "code",
   "execution_count": 14,
   "metadata": {},
   "outputs": [
    {
     "data": {
      "text/plain": [
       "6"
      ]
     },
     "execution_count": 14,
     "metadata": {},
     "output_type": "execute_result"
    }
   ],
   "source": [
    "Binomial(n=10, p=0.5).draw()"
   ]
  },
  {
   "cell_type": "code",
   "execution_count": 15,
   "metadata": {},
   "outputs": [
    {
     "data": {
      "text/plain": [
       "-0.5934710096667243"
      ]
     },
     "execution_count": 15,
     "metadata": {},
     "output_type": "execute_result"
    }
   ],
   "source": [
    "Normal(mean=0, sd=1).draw()"
   ]
  },
  {
   "cell_type": "code",
   "execution_count": 16,
   "metadata": {},
   "outputs": [
    {
     "data": {
      "text/plain": [
       "(1.4766090641448149, 3.4092966537925666, 4.437591281203854)"
      ]
     },
     "execution_count": 16,
     "metadata": {},
     "output_type": "execute_result"
    }
   ],
   "source": [
    "mean_vector = [0, 1, 2]\n",
    "cov_matrix = [[1.00, 0.50, 0.25],\n",
    "              [0.50, 2.00, 0.00],\n",
    "              [0.25, 0.00, 4.00]]\n",
    "\n",
    "MultivariateNormal(mean = mean_vector, cov = cov_matrix).draw()"
   ]
  },
  {
   "cell_type": "markdown",
   "metadata": {},
   "source": [
    "<a id='indep'></a>"
   ]
  }
 ],
 "metadata": {
  "anaconda-cloud": {},
  "kernelspec": {
   "display_name": "Python 3",
   "language": "python",
   "name": "python3"
  },
  "language_info": {
   "codemirror_mode": {
    "name": "ipython",
    "version": 3
   },
   "file_extension": ".py",
   "mimetype": "text/x-python",
   "name": "python",
   "nbconvert_exporter": "python",
   "pygments_lexer": "ipython3",
   "version": "3.7.3"
  }
 },
 "nbformat": 4,
 "nbformat_minor": 1
}
