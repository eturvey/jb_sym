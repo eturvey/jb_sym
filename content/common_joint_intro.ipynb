{
 "cells": [
  {
   "cell_type": "markdown",
   "metadata": {},
   "source": [
    "# Common Joint Distributions"
   ]
  },
  {
   "cell_type": "markdown",
   "metadata": {},
   "source": [
    "A **bivariate distribution** is a probability distribution on $(x, y)$ pairs in $\\mathbb{R}^2$.  More generally, **joint (a.k.a. multivariate) distributions** are probability distributions on tuples in $\\mathbb{R}^n$.  \n",
    "\n",
    "The following sections will go over some of the common joint distributions that are easy to access through Symbulate."
   ]
  }
 ],
 "metadata": {
  "kernelspec": {
   "display_name": "Python 3",
   "language": "python",
   "name": "python3"
  },
  "language_info": {
   "codemirror_mode": {
    "name": "ipython",
    "version": 3
   },
   "file_extension": ".py",
   "mimetype": "text/x-python",
   "name": "python",
   "nbconvert_exporter": "python",
   "pygments_lexer": "ipython3",
   "version": "3.7.3"
  }
 },
 "nbformat": 4,
 "nbformat_minor": 2
}
