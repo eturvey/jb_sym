{
 "cells": [
  {
   "cell_type": "markdown",
   "metadata": {},
   "source": [
    "# Continuous Time Markov Processes (CTMC)"
   ]
  },
  {
   "cell_type": "markdown",
   "metadata": {},
   "source": [
    "Be sure to import Symbulate using the following commands."
   ]
  },
  {
   "cell_type": "code",
   "execution_count": 1,
   "metadata": {},
   "outputs": [],
   "source": [
    "from symbulate import *\n",
    "%matplotlib inline"
   ]
  },
  {
   "cell_type": "markdown",
   "metadata": {},
   "source": [
    "A **continuous time Markov chain** is a continuous time, discrete state random process which satisfies for all $t$:\n",
    "\n",
    "Given $X_t$ (\"the present\"), $(X_{u},u \\ge t)$ (\"the future\") is conditionally independent of $(X_{s}, s \\le t )$ (\"the past\"). \n",
    "\n",
    "In a discrete time Markov chain, state transitions occur at every point in time, $n = 0, 1, 2, \\ldots$.  A continuous time Markov chain behaves like a discrete time Markov chain in which the times between state transitions are independent and exponentially distributed.\n",
    "\n",
    "* The amount of time a chain stays in a state has an exponential distribution, with a rate parameter that can depend on the current state.\n",
    "* When the chain \"jumps\" to a new state, the jumps behave like a discrete time Markov chain.\n",
    "* The times between jumps are independent.\n",
    "\n",
    "\n",
    "In Symbulate a continuous time Markov chain is defined with `ContinuousTimeMarkovChain`.  The probabilistic behavior of a continuous time Markov chain is fully specified by the following, which are the parameters of `ContinuousMarkovChain`.\n",
    "\n",
    "* `state_labels`: The **state space** of possible values of the process.  (Default is to label the states 0, 1, 2, ...)\n",
    "* `initial_dist`: The **initial distribution**, which specifies the probability distribution at time 0\n",
    "* `generator_matrix`: The **generator matrix** or **transition rate matrix**, $Q$, whose $(i, j)$  entry specifies the rate at which the chain \"attempts to transition\" to state $j$ given that it is currently in state $i$.\n",
    "  * For small $h$, $P(X_{t+h} = j\\, | X_t = i) \\approx h q(i,j)$\n",
    "  * The total departure rate from states $i$ is $\\lambda(i) = \\sum_{j\\neq i} q(i,j)$\n",
    "  * The diagonal entries are the $-1$ times the total departure rates from each state, $q(i,i) = -\\lambda(i)$, so that the all row sums are 0.\n",
    "  * The probability that when the chain departs state $i$ it jumps to state $j$ is $q(i,j)/\\lambda(i)$."
   ]
  },
  {
   "cell_type": "markdown",
   "metadata": {},
   "source": [
    "*Example.* The weather in a certain city can be classified as either cloudy, rainy, or sunny and follows a continuous time Markov chain.\n",
    "* Given that it is cloudy currently, it will next be rainy with probability 0.3, or sunny with probability 0.7.\n",
    "* Given that it is rainy currently, it will next be cloudy with probability 0.6 or sunny with probability 0.4.\n",
    "* Given that it is sunny currently, it will next be cloudy with probability 1.\n",
    "* On average it stays cloudy for 2 days, rainy for 1 day, and sunny for 3 days.\n",
    "\n",
    "Suppose that it is currently sunny."
   ]
  },
  {
   "cell_type": "code",
   "execution_count": 8,
   "metadata": {},
   "outputs": [],
   "source": [
    "states = [\"cloud\", \"rain\", \"sun\"]\n",
    "\n",
    "Q = [[-0.50, 0.15, 0.35],\n",
    "     [ 0.60,   -1, 0.40],\n",
    "     [  1/3,  0.0, -1/3]]\n",
    "\n",
    "InitialDistribution = [0, 0, 1] # sunny currently\n",
    "\n",
    "X = ContinuousTimeMarkovChain(Q, InitialDistribution, states)"
   ]
  },
  {
   "cell_type": "markdown",
   "metadata": {},
   "source": [
    "If it is currently sunny, find the probability that it is raining 36 hours from now."
   ]
  },
  {
   "cell_type": "code",
   "execution_count": 10,
   "metadata": {},
   "outputs": [
    {
     "data": {
      "text/html": [
       "\n",
       "<table>\n",
       "  <thead>\n",
       "    <th width=\"80%\">Outcome</th>\n",
       "    <th width=\"20%\">Value</th>\n",
       "  </thead>\n",
       "  <tbody>\n",
       "    <tr><td>cloud</td><td>0.2774</td></tr><tr><td>rain</td><td>0.0236</td></tr><tr><td>sun</td><td>0.699</td></tr><tr><td><b>Total</b></td><td><b>0.9999999999999999</b></td></tr>\n",
       "  </tbody>\n",
       "</table>\n"
      ],
      "text/plain": [
       "{'sun': 0.699, 'cloud': 0.2774, 'rain': 0.0236}"
      ]
     },
     "execution_count": 10,
     "metadata": {},
     "output_type": "execute_result"
    }
   ],
   "source": [
    "X[1.5].sim(10000).tabulate(normalize = True)"
   ]
  },
  {
   "cell_type": "markdown",
   "metadata": {},
   "source": [
    "Given that it is raining 36 hours from now, find the probability that it is sunny 48 hours from now."
   ]
  },
  {
   "cell_type": "code",
   "execution_count": 11,
   "metadata": {},
   "outputs": [
    {
     "data": {
      "text/html": [
       "\n",
       "<table>\n",
       "  <thead>\n",
       "    <th width=\"80%\">Outcome</th>\n",
       "    <th width=\"20%\">Value</th>\n",
       "  </thead>\n",
       "  <tbody>\n",
       "    <tr><td>cloud</td><td>0.225</td></tr><tr><td>rain</td><td>0.612</td></tr><tr><td>sun</td><td>0.163</td></tr><tr><td><b>Total</b></td><td><b>1.0</b></td></tr>\n",
       "  </tbody>\n",
       "</table>\n"
      ],
      "text/plain": [
       "{'sun': 0.163, 'rain': 0.612, 'cloud': 0.225}"
      ]
     },
     "execution_count": 11,
     "metadata": {},
     "output_type": "execute_result"
    }
   ],
   "source": [
    "(X[2] | (X[1.5] == \"rain\")).sim(1000).tabulate(normalize = True)"
   ]
  },
  {
   "cell_type": "markdown",
   "metadata": {},
   "source": [
    "#### State labels\n",
    "\n",
    "As for discrete time Markov chains, the state space for a continuous time Markov chain can be any list of values (like ['cloud', 'rain', 'sun']).  If `state_labels` are not specified, the default is to label the states 0, 1, 2, ...  When the states are numerical values, plots can be created, and methods like `.mean()` and `.sd()` can be applied."
   ]
  },
  {
   "cell_type": "code",
   "execution_count": 2,
   "metadata": {},
   "outputs": [
    {
     "data": {
      "image/png": "[encoded data removed]",
      "text/plain": [
       "<Figure size 432x288 with 1 Axes>"
      ]
     },
     "metadata": {
      "needs_background": "light"
     },
     "output_type": "display_data"
    }
   ],
   "source": [
    "Q = [[-0.50, 0.15, 0.35],\n",
    "     [ 0.60,   -1, 0.40],\n",
    "     [  1/3,  0.0, -1/3]]\n",
    "\n",
    "\n",
    "InitialDistribution = [0, 0, 1] # sunny currently\n",
    "\n",
    "X = ContinuousTimeMarkovChain(Q, InitialDistribution)\n",
    "\n",
    "X.sim(1).plot(alpha = 1)"
   ]
  },
  {
   "cell_type": "markdown",
   "metadata": {},
   "source": [
    "We can look at the different arrival times and interarrival times by creating a RV and using the `arrival_times` and `interarrival_times` functions."
   ]
  },
  {
   "cell_type": "code",
   "execution_count": 7,
   "metadata": {},
   "outputs": [
    {
     "data": {
      "image/png": "[encoded data removed]",
      "text/plain": [
       "<Figure size 432x288 with 1 Axes>"
      ]
     },
     "metadata": {
      "needs_background": "light"
     },
     "output_type": "display_data"
    }
   ],
   "source": [
    "T = RV(X, interarrival_times)\n",
    "T.sim(1).plot()"
   ]
  },
  {
   "cell_type": "code",
   "execution_count": 8,
   "metadata": {},
   "outputs": [
    {
     "data": {
      "image/png": "[encoded data removed]",
      "text/plain": [
       "<Figure size 432x288 with 1 Axes>"
      ]
     },
     "metadata": {
      "needs_background": "light"
     },
     "output_type": "display_data"
    }
   ],
   "source": [
    "T[0].sim(1000).plot()"
   ]
  }
 ],
 "metadata": {
  "anaconda-cloud": {},
  "kernelspec": {
   "display_name": "Python 3",
   "language": "python",
   "name": "python3"
  },
  "language_info": {
   "codemirror_mode": {
    "name": "ipython",
    "version": 3
   },
   "file_extension": ".py",
   "mimetype": "text/x-python",
   "name": "python",
   "nbconvert_exporter": "python",
   "pygments_lexer": "ipython3",
   "version": "3.7.3"
  }
 },
 "nbformat": 4,
 "nbformat_minor": 1
}
