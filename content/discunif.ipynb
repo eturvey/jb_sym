{
 "cells": [
  {
   "cell_type": "markdown",
   "metadata": {},
   "source": [
    "\n",
    "# Discrete Uniform"
   ]
  },
  {
   "cell_type": "markdown",
   "metadata": {},
   "source": [
    "Be sure to import Symbulate using the following commands."
   ]
  },
  {
   "cell_type": "code",
   "execution_count": 1,
   "metadata": {},
   "outputs": [],
   "source": [
    "from symbulate import *\n",
    "%matplotlib inline"
   ]
  },
  {
   "cell_type": "markdown",
   "metadata": {},
   "source": [
    "Some additional plotting functionality is enabled by importing [matplotlib](https://matplotlib.org/)."
   ]
  },
  {
   "cell_type": "code",
   "execution_count": 2,
   "metadata": {},
   "outputs": [],
   "source": [
    "import matplotlib.pyplot as plt"
   ]
  },
  {
   "cell_type": "markdown",
   "metadata": {},
   "source": [
    "A **discrete Uniform** distribution with parameters $a$ and $b$, `DiscreteUniform(a, b)`, assigns equal probability to each integer between $a$ and $b$ (inclusive), as specified by the probability mass function\n",
    "\n",
    "$$\n",
    "p(x) = \\frac{1}{b - a + 1}, \\qquad x \\in \\{a, a+1, \\ldots, b-1, b\\}\n",
    "$$\n",
    "\n",
    "If $X$ is a random variable with a `DiscreteUniform(a, b)` distribution then\n",
    "\n",
    "$$\n",
    "\\begin{align*}\n",
    "E(X) & = \\frac{a + b + 1}{2} \\\\\n",
    "Var(X) & = \\frac{(a + b)^2 - 1}{12}\n",
    "\\end{align*}\n",
    "$$"
   ]
  },
  {
   "cell_type": "markdown",
   "metadata": {},
   "source": [
    "*Example.* Actual and simulated pmf for `DiscreteUniform(a=1, b=6)`."
   ]
  },
  {
   "cell_type": "code",
   "execution_count": 3,
   "metadata": {},
   "outputs": [
    {
     "data": {
      "text/plain": [
       "(1, 6)"
      ]
     },
     "execution_count": 3,
     "metadata": {},
     "output_type": "execute_result"
    },
    {
     "data": {
      "image/png": "[encoded data removed]",
      "text/plain": [
       "<Figure size 432x288 with 1 Axes>"
      ]
     },
     "metadata": {
      "needs_background": "light"
     },
     "output_type": "display_data"
    }
   ],
   "source": [
    "sims = RV(DiscreteUniform(a=1, b=6)).sim(10000)\n",
    "sims.plot()\n",
    "DiscreteUniform(a=1, b=6).plot()\n",
    "xlim(1,6)"
   ]
  },
  {
   "cell_type": "markdown",
   "metadata": {},
   "source": [
    "Note that we can look at the true probabilities of each occurence by plotting the `DiscreteUniform` function instead of simulated values from this distribution."
   ]
  },
  {
   "cell_type": "code",
   "execution_count": 6,
   "metadata": {},
   "outputs": [
    {
     "name": "stdout",
     "output_type": "stream",
     "text": [
      "The simulated mean is: 3.49\n",
      "The true mean is: 3.50\n"
     ]
    }
   ],
   "source": [
    "print('The simulated mean is: {:.2f}'.format(sims.mean()))\n",
    "print('The true mean is: {:.2f}'.format(DiscreteUniform(a=1, b=6).mean()))"
   ]
  },
  {
   "cell_type": "code",
   "execution_count": 7,
   "metadata": {},
   "outputs": [
    {
     "name": "stdout",
     "output_type": "stream",
     "text": [
      "The simulated variance is: 2.88\n",
      "The true variance is: 2.92\n"
     ]
    }
   ],
   "source": [
    "print('The simulated variance is: {:.2f}'.format(sims.var()))\n",
    "print('The true variance is: {:.2f}'.format(DiscreteUniform(a=1, b=6).var()))"
   ]
  },
  {
   "cell_type": "markdown",
   "metadata": {
    "collapsed": true
   },
   "source": [
    "Lets explore what the pmf looks like when `b` varies.\n",
    "\n",
    "*Example*. `DiscreteUniform(a = 1, b)` pmf."
   ]
  },
  {
   "cell_type": "code",
   "execution_count": 8,
   "metadata": {},
   "outputs": [
    {
     "data": {
      "text/plain": [
       "Text(0.5, 1.0, 'Discrete Uniform distributions with a=1')"
      ]
     },
     "execution_count": 8,
     "metadata": {},
     "output_type": "execute_result"
    },
    {
     "data": {
      "image/png": "[encoded data removed]",
      "text/plain": [
       "<Figure size 432x288 with 1 Axes>"
      ]
     },
     "metadata": {
      "needs_background": "light"
     },
     "output_type": "display_data"
    }
   ],
   "source": [
    "bs = [3, 5, 7]\n",
    "for b in bs:\n",
    "    DiscreteUniform(a=1, b=b).plot()\n",
    "    plt.xlim(0.9, 7.1)\n",
    "    \n",
    "plt.legend([\"b=\" + str(i) for i in bs])\n",
    "plt.title(\"Discrete Uniform distributions with a=1\")\n"
   ]
  }
 ],
 "metadata": {
  "kernelspec": {
   "display_name": "Python 3",
   "language": "python",
   "name": "python3"
  },
  "language_info": {
   "codemirror_mode": {
    "name": "ipython",
    "version": 3
   },
   "file_extension": ".py",
   "mimetype": "text/x-python",
   "name": "python",
   "nbconvert_exporter": "python",
   "pygments_lexer": "ipython3",
   "version": "3.7.3"
  }
 },
 "nbformat": 4,
 "nbformat_minor": 2
}
